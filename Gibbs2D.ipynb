{
 "cells": [
  {
   "cell_type": "markdown",
   "metadata": {},
   "source": [
    "Work in progress.."
   ]
  },
  {
   "cell_type": "code",
   "execution_count": 1,
   "metadata": {},
   "outputs": [],
   "source": [
    "# Import the needed packages\n",
    "import numpy as np\n",
    "import matplotlib.pylab as plt\n",
    "from tomopy.misc.phantom import shepp2d"
   ]
  },
  {
   "cell_type": "code",
   "execution_count": 2,
   "metadata": {},
   "outputs": [],
   "source": [
    "from interp2d import wamfit"
   ]
  },
  {
   "cell_type": "code",
   "execution_count": 3,
   "metadata": {},
   "outputs": [],
   "source": [
    "def plot_image(img, fig_name, pts=None):\n",
    "    plt.imshow(img, vmin=0, vmax=1)\n",
    "    plt.axis('off')\n",
    "    if pts:\n",
    "        plt.plot(pts[0], pts[1], 'r.')\n",
    "    plt.savefig('%s.eps' %fig_name,bbox_inches='tight')\n",
    "    plt.savefig('%s.png' %fig_name,bbox_inches='tight')\n",
    "    plt.show()\n",
    "# Define the MSE\n",
    "def mse(ftrue, fapprox, N):\n",
    "    return np.sum((ftrue-fapprox)**2)/N"
   ]
  },
  {
   "cell_type": "code",
   "execution_count": 4,
   "metadata": {},
   "outputs": [],
   "source": [
    "# Fix the numer of data and polynomial degree\n",
    "N = 256 # Fix the number of evaluation points in one direction \n",
    "deg = 4 # Fix the polynomial degree\n",
    "arr = np.array([32,48,64,96,128]) # Fix the number of points in one direction\n",
    "MseStandard =[]; MseFakeNodes = [] # Initialize"
   ]
  },
  {
   "cell_type": "code",
   "execution_count": null,
   "metadata": {},
   "outputs": [],
   "source": []
  },
  {
   "cell_type": "code",
   "execution_count": 11,
   "metadata": {},
   "outputs": [
    {
     "data": {
      "image/png": "[encoded data removed]",
      "text/plain": [
       "<Figure size 432x288 with 1 Axes>"
      ]
     },
     "metadata": {
      "needs_background": "light"
     },
     "output_type": "display_data"
    }
   ],
   "source": [
    "# Compute the function values for testin the performances of the method\n",
    "P = (shepp2d(size = N)).T.reshape(N,N)\n",
    "\n",
    "plot_image(P, 'images/SheppOriginal_%d.png'%N, pts=None)\n",
    "# Compute the grid for the evaluation points\n",
    "X, Y = np.meshgrid(np.transpose(np.linspace(0,N,N)),\\\n",
    "                   np.transpose(np.linspace(0,N,N)))\n",
    "X, Y = X.ravel(), Y.ravel()\n",
    "TrueSolution = P.ravel() \n",
    "# Compute the fake evaluation nodes\n",
    "XF, YF = X.copy(), Y.copy() # Initialize\n",
    "ShiftParameter = np.array([0,1.1,2.1,3.1,4.1,5.1]).dot(2*N)"
   ]
  },
  {
   "cell_type": "code",
   "execution_count": 9,
   "metadata": {},
   "outputs": [],
   "source": [
    "# Compute the fake evaluation nodes\n",
    "for i in range(0,TrueSolution.shape[0]):\n",
    "    if abs(TrueSolution[i]-0)<0.01:\n",
    "        XF[i] = X[i]+ShiftParameter[0]\n",
    "        YF[i] = Y[i]+ShiftParameter[0]\n",
    "    if abs(TrueSolution[i]-0.1)<0.05:\n",
    "        XF[i] = X[i]+ShiftParameter[1]\n",
    "        YF[i] = Y[i]+ShiftParameter[1]\n",
    "    if abs(TrueSolution[i]-0.2)<0.05:\n",
    "        XF[i] = X[i]+ShiftParameter[2]\n",
    "        YF[i] = Y[i]+ShiftParameter[2]\n",
    "    if abs(TrueSolution[i]-0.3)<0.05:\n",
    "        XF[i] = X[i]+ShiftParameter[3]\n",
    "        YF[i] = Y[i]+ShiftParameter[3]\n",
    "    if abs(TrueSolution[i]-0.4)<0.05:\n",
    "        XF[i] = X[i]+ShiftParameter[4]\n",
    "        YF[i] = Y[i]+ShiftParameter[4]\n",
    "    if abs(TrueSolution[i]-1)<0.05:\n",
    "        XF[i] = X[i]+ShiftParameter[5]\n",
    "        YF[i] = Y[i]+ShiftParameter[5]"
   ]
  },
  {
   "cell_type": "code",
   "execution_count": 14,
   "metadata": {},
   "outputs": [
    {
     "data": {
      "image/png": "[encoded data removed]",
      "text/plain": [
       "<Figure size 432x288 with 1 Axes>"
      ]
     },
     "metadata": {
      "needs_background": "light"
     },
     "output_type": "display_data"
    },
    {
     "ename": "ValueError",
     "evalue": "matmul: Input operand 1 has a mismatch in its core dimension 0, with gufunc signature (n?,k),(k,m?)->(n?,m?) (size 65536 is different from 1024)",
     "output_type": "error",
     "traceback": [
      "\u001b[0;31m---------------------------------------------------------------------------\u001b[0m",
      "\u001b[0;31mValueError\u001b[0m                                Traceback (most recent call last)",
      "\u001b[0;32m<ipython-input-14-1edc724420b3>\u001b[0m in \u001b[0;36m<module>\u001b[0;34m\u001b[0m\n\u001b[1;32m     11\u001b[0m     \u001b[0mf\u001b[0m \u001b[0;34m=\u001b[0m \u001b[0mP\u001b[0m\u001b[0;34m.\u001b[0m\u001b[0mravel\u001b[0m\u001b[0;34m(\u001b[0m\u001b[0;34m)\u001b[0m\u001b[0;34m\u001b[0m\u001b[0m\n\u001b[1;32m     12\u001b[0m     cfs, lsp = wamfit(deg,((np.vstack((x,y)).T)/n), \\\n\u001b[0;32m---> 13\u001b[0;31m                        ((np.vstack((X,Y)).T)/N), f)\n\u001b[0m\u001b[1;32m     14\u001b[0m \u001b[0;34m\u001b[0m\u001b[0m\n\u001b[1;32m     15\u001b[0m     MseStandard = np.hstack((MseStandard,\\\n",
      "\u001b[0;32m~/GitHub/FakeNodes2D/interp2d.py\u001b[0m in \u001b[0;36mwamfit\u001b[0;34m(deg, wam, pts, fval)\u001b[0m\n\u001b[1;32m     23\u001b[0m     \u001b[0mQ\u001b[0m\u001b[0;34m,\u001b[0m \u001b[0mR1\u001b[0m\u001b[0;34m,\u001b[0m \u001b[0mR2\u001b[0m \u001b[0;34m=\u001b[0m \u001b[0mwamdop\u001b[0m\u001b[0;34m(\u001b[0m\u001b[0mdeg\u001b[0m\u001b[0;34m,\u001b[0m \u001b[0mwam\u001b[0m\u001b[0;34m,\u001b[0m \u001b[0mrect\u001b[0m\u001b[0;34m)\u001b[0m\u001b[0;34m\u001b[0m\u001b[0m\n\u001b[1;32m     24\u001b[0m     \u001b[0mDOP\u001b[0m \u001b[0;34m=\u001b[0m \u001b[0mwamdopeval\u001b[0m\u001b[0;34m(\u001b[0m\u001b[0mdeg\u001b[0m\u001b[0;34m,\u001b[0m \u001b[0mR1\u001b[0m\u001b[0;34m,\u001b[0m \u001b[0mR2\u001b[0m\u001b[0;34m,\u001b[0m \u001b[0mpts\u001b[0m\u001b[0;34m,\u001b[0m \u001b[0mrect\u001b[0m\u001b[0;34m)\u001b[0m\u001b[0;34m\u001b[0m\u001b[0m\n\u001b[0;32m---> 25\u001b[0;31m     \u001b[0mcfs\u001b[0m \u001b[0;34m=\u001b[0m \u001b[0mnp\u001b[0m\u001b[0;34m.\u001b[0m\u001b[0mmatmul\u001b[0m\u001b[0;34m(\u001b[0m\u001b[0mQ\u001b[0m\u001b[0;34m.\u001b[0m\u001b[0mT\u001b[0m\u001b[0;34m,\u001b[0m \u001b[0mfval\u001b[0m\u001b[0;34m)\u001b[0m\u001b[0;34m\u001b[0m\u001b[0m\n\u001b[0m\u001b[1;32m     26\u001b[0m     \u001b[0mlsp\u001b[0m \u001b[0;34m=\u001b[0m \u001b[0mnp\u001b[0m\u001b[0;34m.\u001b[0m\u001b[0mmatmul\u001b[0m\u001b[0;34m(\u001b[0m\u001b[0mDOP\u001b[0m\u001b[0;34m,\u001b[0m \u001b[0mcfs\u001b[0m\u001b[0;34m)\u001b[0m\u001b[0;34m\u001b[0m\u001b[0m\n\u001b[1;32m     27\u001b[0m     \u001b[0;32mreturn\u001b[0m \u001b[0mnp\u001b[0m\u001b[0;34m.\u001b[0m\u001b[0marray\u001b[0m\u001b[0;34m(\u001b[0m\u001b[0mcfs\u001b[0m\u001b[0;34m)\u001b[0m\u001b[0;34m,\u001b[0m \u001b[0mnp\u001b[0m\u001b[0;34m.\u001b[0m\u001b[0marray\u001b[0m\u001b[0;34m(\u001b[0m\u001b[0mlsp\u001b[0m\u001b[0;34m)\u001b[0m\u001b[0;34m\u001b[0m\u001b[0m\n",
      "\u001b[0;31mValueError\u001b[0m: matmul: Input operand 1 has a mismatch in its core dimension 0, with gufunc signature (n?,k),(k,m?)->(n?,m?) (size 65536 is different from 1024)"
     ]
    }
   ],
   "source": [
    "\n",
    "for j in range(0,5):\n",
    "    n = int(arr[j])\n",
    "    P = (shepp2d(size = N)).T.reshape(N,N)\n",
    "    plot_image(P, 'Subsampled_Shepp_%d.eps'%n, pts=None)\n",
    "    # Construct the function values for interpolation\n",
    "    x, y = np.meshgrid(np.transpose(np.linspace(0,n,n)),\\\n",
    "                   np.transpose(np.linspace(0,n,n)))\n",
    "    x, y = x.ravel(), y.ravel()\n",
    "    # Compute the fake evaluation nodes\n",
    "    xF, yF = x.copy(), y.copy() # Initialize    \n",
    "    f = P.ravel()\n",
    "    cfs, lsp = wamfit(deg,((np.vstack((x,y)).T)/n), \\\n",
    "                       ((np.vstack((X,Y)).T)/N), f)\n",
    "    \n",
    "    MseStandard = np.hstack((MseStandard,\\\n",
    "                              mse(lsp, np.matrix(TrueSolution).T, \\\n",
    "                                  (lsp.shape[0]))))\n",
    "    plot_image(np.reshape(lsp, (N,N)),\\\n",
    "               'Standard_poly_reconstruction_%d.eps'%n, pts=None)\n",
    "    for i in range(0,f.shape[0]):\n",
    "        if abs(f[i]-0)<0.01:\n",
    "            xF[i] = x[i]+ShiftParameter[0]\n",
    "            yF[i] = y[i]+ShiftParameter[0]\n",
    "        if abs(f[i]-0.1)<0.05:\n",
    "            xF[i] = x[i]+ShiftParameter[1]\n",
    "            yF[i] = y[i]+ShiftParameter[1]\n",
    "        if abs(f[i]-0.2)<0.05:\n",
    "            xF[i] = x[i]+ShiftParameter[2]\n",
    "            yF[i] = y[i]+ShiftParameter[2]\n",
    "        if abs(f[i]-0.3)<0.05:\n",
    "            xF[i] = x[i]+ShiftParameter[3]\n",
    "            yF[i] = y[i]+ShiftParameter[3]\n",
    "        if abs(f[i]-0.4)<0.05:\n",
    "            xF[i] = x[i]+ShiftParameter[4]\n",
    "            yF[i] = y[i]+ShiftParameter[4]\n",
    "        if abs(f[i]-1)<0.05:\n",
    "            xF[i] = x[i]+ShiftParameter[5]\n",
    "            yF[i] = y[i]+ShiftParameter[5]\n",
    "\n",
    "\n",
    "    # Compute the Least square approximant    \n",
    "    cfs, lsp = wamfit(deg, (np.vstack((xF,yF))/np.max((np.max(xF), \\\n",
    "    (np.max(yF))))).T, (np.vstack((XF,YF))/np.max((np.max(XF), \\\n",
    "    (np.max(YF))))).T, f)\n",
    "    \n",
    "    MseFakeNodes = np.hstack((MseFakeNodes,\\\n",
    "                               mse(lsp, np.matrix(TrueSolution).T, \\\n",
    "                                    (lsp.shape[0])))) \n",
    "    \n",
    "    plot_image(np.reshape(lsp, (N,N)), \\\n",
    "               'images/Fake_poly_reconstruction_%d.eps'%n, pts=None)\n",
    "    "
   ]
  },
  {
   "cell_type": "code",
   "execution_count": null,
   "metadata": {},
   "outputs": [],
   "source": [
    "\n",
    "\n",
    "\n",
    "\n"
   ]
  },
  {
   "cell_type": "code",
   "execution_count": null,
   "metadata": {},
   "outputs": [],
   "source": [
    "# Save the results  \n",
    "Outfile = open('ResultsSL.txt',\"w\")\n",
    "out_string = 'MSE with standard nodes: %s\\n' %(MseStandard)\n",
    "out_string += 'MSE with fake nides: %s\\n' %(MseFakeNodes)\n",
    "Outfile.write(out_string)   \n",
    "Outfile.close()\n",
    "# Plot\n",
    "plt.semilogy(arr**2, MseStandard, 'g*-',arr**2, MseFakeNodes,'ro-')\n",
    "plt.xlabel('n')\n",
    "plt.ylabel('MSE')\n",
    "plt.legend(['Equispaced','Fake points'])\n",
    "plt.grid()\n",
    "plt.savefig(\"images/ErrorSL.png\")"
   ]
  }
 ],
 "metadata": {
  "kernelspec": {
   "display_name": "Python 3",
   "language": "python",
   "name": "python3"
  },
  "language_info": {
   "codemirror_mode": {
    "name": "ipython",
    "version": 3
   },
   "file_extension": ".py",
   "mimetype": "text/x-python",
   "name": "python",
   "nbconvert_exporter": "python",
   "pygments_lexer": "ipython3",
   "version": "3.7.0"
  }
 },
 "nbformat": 4,
 "nbformat_minor": 2
}
