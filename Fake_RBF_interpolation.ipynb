{
 "cells": [
  {
   "cell_type": "markdown",
   "metadata": {},
   "source": [
    "This script computes the kernel-based interpolants based on the so-called fake nodes or mapped bases. \n",
    "\n",
    "We consider the multivariate scattered data interpolation problem. Given a set of scattered data $X_{n}=\\{\\boldsymbol{x}_i, \\; i=1, \\ldots,n \\} \\subseteq \\Omega$, with $\\Omega \\in \\mathbb{R}^d$ and the associated function values \n",
    "$F_{n}=\\{f(\\boldsymbol{x}_i), \\; i=1, \\ldots,n \\}$, which are sampled from a function $f$, find a function $P_f$ so that \n",
    "$$    P_f(\\boldsymbol{x}_i) = f(\\boldsymbol{x}_i), \\quad i=1, \\ldots, n. \n",
    "$$\n",
    "\n",
    "Let us consider an injective map $S: \\Omega \\longrightarrow \\mathbb{R}$. The idea is to construct an interpolant  $$R_f \\in H^s_n := \\textrm{span}(K(\\cdot,S(\\boldsymbol{x}_1)), \\ldots, K(\\cdot,S(\\boldsymbol{x}_n))),$$ so that for $\\boldsymbol{x} \\in \\Omega$ $$ R_f(\\boldsymbol{x})=  \\sum_{i=1}^n \\alpha^s_i K(\\cdot,S(\\boldsymbol{x}_i)):= P_g(S(\\boldsymbol{x})),$$\n",
    "and the (unknown) function $g$ is such that $g_{|S(X_n)}=f_{|X_n}.$ Thus constructing the interpolant $R_f$ via the mapped bases is equivalent to  building a classical interpolant $P_g \\in H_n $ on the fake nodes $S(X_n)$ and thus solving the associated collocation system with the given function values as right-hand side.\n"
   ]
  },
  {
   "cell_type": "code",
   "execution_count": 1,
   "metadata": {},
   "outputs": [],
   "source": [
    "# Import the needed packages\n",
    "import numpy as np\n",
    "import matplotlib.pylab as plt"
   ]
  },
  {
   "cell_type": "code",
   "execution_count": 2,
   "metadata": {},
   "outputs": [],
   "source": [
    "# Define the MSE\n",
    "def mse(ftrue, fapprox, N):\n",
    "    return np.sum(((np.power(ftrue-fapprox, 2))))/N\n",
    "# Define the test function\n",
    "def funcval(x,y):\n",
    "    return np.array([(np.sin(x+y**2))*(x**2+y**2-0.4**2<0)+\\\n",
    "                     (1)*(x**2+y**2-0.4**2>=0)]).T"
   ]
  },
  {
   "cell_type": "markdown",
   "metadata": {},
   "source": [
    "We now define the function for computing the distance matrices and the kernel used in our experiments, i.e. $\\Phi({\\boldsymbol{x}},{\\boldsymbol{y}})= \\exp(-||\\boldsymbol{x}-\\boldsymbol{y}||_2)$ "
   ]
  },
  {
   "cell_type": "code",
   "execution_count": 3,
   "metadata": {},
   "outputs": [],
   "source": [
    "# Function for computing the distance matrices\n",
    "def DistanceMatrix(dsites,epoints,dim):\n",
    "    DM = np.zeros((dsites.shape[0], dsites.shape[0]))\n",
    "    DM_eval = np.zeros((epoints.shape[0], dsites.shape[0]))\n",
    "    for count in range(0,dim):\n",
    "        dr, cc = np.meshgrid(epoints[:,count],dsites[:,count])\n",
    "        DM_eval = DM_eval + (np.power((dr-cc),2)).T\n",
    "        dr, cc = np.meshgrid(dsites[:,count],dsites[:,count])\n",
    "        DM = DM + (np.power((dr-cc),2)).T\n",
    "    return DM, DM_eval\n",
    "# Define the kernel\n",
    "def _rbfm(ep, r):\n",
    "    return np.exp(-ep*r)"
   ]
  },
  {
   "cell_type": "code",
   "execution_count": 4,
   "metadata": {},
   "outputs": [],
   "source": [
    "# Define the input parameters\n",
    "N = 40 # Fix the number of evaluation points in one direction\n",
    "ShiftParameter = 10 # Shift parameter\n",
    "arr = np.array([3,9,17,33]) # Fix the number of points in one direction\n",
    "ep = 0.5 # Fix the shape parameter\n",
    "dim = 2 # Fix the dimension\n",
    "# Compute the function values for testin the performances of the method\n",
    "TrueSolution, MseStandard, MseFakeNodes = [], [], [] # Initialize"
   ]
  },
  {
   "cell_type": "code",
   "execution_count": 5,
   "metadata": {},
   "outputs": [],
   "source": [
    "# Compute the grid for the evaluation points\n",
    "X, Y = np.meshgrid(np.transpose(np.linspace(-1,1,N)),\\\n",
    "                   np.transpose(np.linspace(-1,1,N)))\n",
    "X, Y = X.ravel(), Y.ravel()\n",
    "TrueSolution = funcval(X,Y)\n",
    "# Compute the fake evaluation nodes\n",
    "mask = X**2+Y**2-0.4**2>0 # This mask is associated to the test function\n",
    "XF, YF = X.copy(), Y.copy() \n",
    "# Compute the fake evaluation nodes\n",
    "XF[mask] = X[mask]+ShiftParameter\n",
    "YF[mask] = Y[mask]+ShiftParameter"
   ]
  },
  {
   "cell_type": "code",
   "execution_count": 6,
   "metadata": {},
   "outputs": [],
   "source": [
    "# Compute the approximants\n",
    "for j in range(0,len(arr)):\n",
    "    # Define the number of points\n",
    "    n = int(arr[j])\n",
    "    # Construct the grid of interpolation points\n",
    "    x, y = np.meshgrid(np.transpose(np.linspace(-1,1,n)),\\\n",
    "                           np.transpose(np.linspace(-1,1,n)))    \n",
    "    x, y = x.ravel(), y.ravel()\n",
    "    # Compute the function values    \n",
    "    f = funcval(x,y) \n",
    "    # Compute the kernel matrices for standard interpolation\n",
    "    DM, DM_eval= DistanceMatrix(((np.vstack((x,y)).T)+1)/2,((np.vstack((X,Y)).T)+1)/2,dim)\n",
    "    IM, EM = _rbfm(ep,np.sqrt(DM)), _rbfm(ep,np.sqrt(DM_eval))    \n",
    "    # Compute the coefficient of the interpolant    \n",
    "    coef = np.linalg.solve(IM,f)\n",
    "    # Evaluate the interpolant\n",
    "    lsp = EM.dot(coef)    \n",
    "    # Compute the MSE\n",
    "    MseStandard = np.hstack((MseStandard,\\\n",
    "                              mse(lsp, TrueSolution, (lsp.shape[0]))))\n",
    "    # Compute the fake evaluation nodes\n",
    "    xF, yF = x.copy(), y.copy() # Initialize\n",
    "    mask = x**2+y**2-0.4**2>0\n",
    "    xF[mask] = x[mask]+ShiftParameter\n",
    "    yF[mask] = y[mask]+ShiftParameter\n",
    "    # Compute the kernel matrices for standard interpolation\n",
    "    DM, DM_eval= DistanceMatrix((((np.vstack((xF,yF))/np.max((np.max(xF), \\\n",
    "    (np.max(yF))))).T)+1)/2,(((np.vstack((XF,YF))/np.max((np.max(XF),\\\n",
    "    (np.max(YF))))).T)+1)/2,dim)\n",
    "    IM, EM = _rbfm(ep,np.sqrt(DM)), _rbfm(ep,np.sqrt(DM_eval))    \n",
    "    # Compute the coefficient of the interpolant    \n",
    "    coef = np.linalg.solve(IM,f)\n",
    "    # Evaluate the interpolant\n",
    "    lsp = EM.dot(coef)      \n",
    "    # Compute the MSE\n",
    "    MseFakeNodes = np.hstack((MseFakeNodes,\\\n",
    "                               mse(lsp, TrueSolution, (lsp.shape[0])))) "
   ]
  },
  {
   "cell_type": "code",
   "execution_count": 7,
   "metadata": {},
   "outputs": [
    {
     "data": {
      "image/png": "[encoded data removed]",
      "text/plain": [
       "<Figure size 432x288 with 1 Axes>"
      ]
     },
     "metadata": {
      "needs_background": "light"
     },
     "output_type": "display_data"
    }
   ],
   "source": [
    "# Save the results  \n",
    "Outfile = open('ResultsKernel.txt',\"w\")\n",
    "out_string = 'MSE with standard nodes: %s\\n' %(MseStandard)\n",
    "out_string += 'MSE with fake nides: %s\\n' %(MseFakeNodes)\n",
    "Outfile.write(out_string)   \n",
    "Outfile.close()\n",
    "# Plot\n",
    "plt.semilogy(arr, MseStandard, 'k*-',arr, MseFakeNodes,'mo-')\n",
    "plt.xlabel('n')\n",
    "plt.ylabel('MSE')\n",
    "plt.savefig(\"images/ErrorKernel.png\")\n",
    "plt.show()"
   ]
  },
  {
   "cell_type": "code",
   "execution_count": null,
   "metadata": {},
   "outputs": [],
   "source": []
  }
 ],
 "metadata": {
  "kernelspec": {
   "display_name": "Python 3",
   "language": "python",
   "name": "python3"
  },
  "language_info": {
   "codemirror_mode": {
    "name": "ipython",
    "version": 3
   },
   "file_extension": ".py",
   "mimetype": "text/x-python",
   "name": "python",
   "nbconvert_exporter": "python",
   "pygments_lexer": "ipython3",
   "version": "3.7.0"
  }
 },
 "nbformat": 4,
 "nbformat_minor": 1
}
