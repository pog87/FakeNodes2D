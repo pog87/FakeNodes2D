{
 "cells": [
  {
   "cell_type": "code",
   "execution_count": 0,
   "metadata": {
    "collapsed": false
   },
   "outputs": [
   ],
   "source": [
   ]
  },
  {
   "cell_type": "code",
   "execution_count": 0,
   "metadata": {
    "collapsed": false
   },
   "outputs": [
   ],
   "source": [
   ]
  },
  {
   "cell_type": "code",
   "execution_count": 4,
   "metadata": {
    "collapsed": false
   },
   "outputs": [
   ],
   "source": [
    "import numpy as np\n",
    "import int2d\n",
    "import numpy.matlib as mlb\n",
    "\n",
    "\n",
    "import matplotlib.pyplot as plb\n",
    "from mpl_toolkits.mplot3d import Axes3D\n",
    "import matplotlib.pylab as plt\n",
    "%matplotlib inline"
   ]
  },
  {
   "cell_type": "code",
   "execution_count": 2,
   "metadata": {
    "collapsed": false
   },
   "outputs": [
   ],
   "source": [
    "f = lambda x,y: 1./(1+5*(x**2+y**2))\n",
    "#f = lambda x,y: (1./(1+(x**2)))*(1./(1+(y**2)))"
   ]
  },
  {
   "cell_type": "code",
   "execution_count": 3,
   "metadata": {
    "collapsed": false
   },
   "outputs": [
   ],
   "source": [
    "def _pdpts(n):\n",
    "    xyrange = np.array([-1,1,-1,1])\n",
    "    zn = (xyrange[0]+xyrange[1]+(xyrange[1]-xyrange[0])*\n",
    "                        np.cos(np.linspace(0,1,n+1)*np.pi))/2\n",
    "    zn1 = (xyrange[2]+xyrange[3]+(xyrange[3]-xyrange[2])*\n",
    "                        np.cos(np.linspace(0,1,n+2)*np.pi))/2\n",
    "\n",
    "    Pad1, Pad2 = np.meshgrid(zn,zn1)\n",
    "    \n",
    "    f1 = np.linspace(0,n,n+1)\n",
    "    f2 = np.linspace(0,n+1,n+2)\n",
    "    \n",
    "    M1, M2 = np.meshgrid(f1,f2)\n",
    "    h = np.array(np.mod(M1+M2,2))\n",
    "    g = np.array(np.concatenate(h.T))\n",
    "    \n",
    "    findM = np.argwhere(g)\n",
    "    \n",
    "    Pad_x = np.concatenate(Pad1.T)[findM]\n",
    "    Pad_y = np.concatenate(Pad2.T)[findM]\n",
    "    #Pad_x = np.matrix(Pad_x)\n",
    "    #Pad_y = np.matrix(Pad_y)\n",
    "    \n",
    "    return Pad_x.reshape(-1), Pad_y.reshape(-1)"
   ]
  },
  {
   "cell_type": "code",
   "execution_count": 5,
   "metadata": {
    "collapsed": false
   },
   "outputs": [
   ],
   "source": [
    "def equisp_unisolv(n):\n",
    "    xyrange = np.array([-1,1,-1,1])\n",
    "    zn  = np.linspace(xyrange[0],xyrange[1],n+1)[::-1]\n",
    "    zn1 = np.linspace(xyrange[2],xyrange[3],n+2)[::-1]\n",
    "\n",
    "    X, Y = np.meshgrid(zn,zn1)\n",
    "    \n",
    "    f1 = np.linspace(0,n,n+1)\n",
    "    f2 = np.linspace(0,n+1,n+2)\n",
    "  \n",
    "    M1, M2 = np.meshgrid(f1,f2)\n",
    "    h = np.array(np.mod(M1+M2,2))\n",
    "    g = np.array(np.concatenate(h.T))\n",
    "    \n",
    "    findM = np.argwhere(g)\n",
    "    \n",
    "    x = np.concatenate(X.T)[findM]\n",
    "    y = np.concatenate(Y.T)[findM]\n",
    "    return x.reshape(-1), y.reshape(-1)"
   ]
  },
  {
   "cell_type": "code",
   "execution_count": 6,
   "metadata": {
    "collapsed": false
   },
   "outputs": [
   ],
   "source": [
    "def S(x,y):\n",
    "    xyrange = np.array([-1,1,-1,1])\n",
    "    # riporto a [0,1]\n",
    "    xn = (x+1)/2\n",
    "    yn = (y+1)/2\n",
    "    X = (xyrange[0]+xyrange[1]+(xyrange[1]-xyrange[0])*\n",
    "                        -1*np.cos(xn*np.pi))/2\n",
    "    Y = (xyrange[2]+xyrange[3]+(xyrange[3]-xyrange[2])*\n",
    "                        -1*np.cos(yn*np.pi))/2\n",
    "    return X.reshape(-1), Y.reshape(-1)"
   ]
  },
  {
   "cell_type": "code",
   "execution_count": 7,
   "metadata": {
    "collapsed": false
   },
   "outputs": [
   ],
   "source": [
    "def run_all(N):\n",
    "    pdx, pdy = _pdpts(N)\n",
    "    x, y  = equisp_unisolv(N)\n",
    "    x_f, y_f = S(x,y)\n",
    "    \n",
    "    n_eval = N+10\n",
    "    X, Y = np.meshgrid(np.linspace(-1,1,n_eval),np.linspace(-1,1, n_eval))\n",
    "    X, Y = X.flatten(), Y.flatten()\n",
    "    f_true = f(X,Y).reshape(-1,1)\n",
    "    \n",
    "    X_f, Y_f = S(X,Y)\n",
    "    \n",
    "    _, f_eq = int2d._wamfit(N, np.array([x, y]).T, np.array([X,Y]).T, f(x,y).reshape(-1,1))\n",
    "    err_eq = np.linalg.norm(f_eq.reshape(n_eval,-1) - f_true.reshape(n_eval,-1))**2/n_eval\n",
    "    \n",
    "    _, f_fake = int2d._wamfit(N, np.array([x_f, y_f]).T, np.array([X_f,Y_f]).T, f(x,y).reshape(-1,1))\n",
    "    err_fake = np.linalg.norm(f_fake.reshape(n_eval,-1) - f_true.reshape(n_eval,-1))**2/n_eval\n",
    "    \n",
    "    _, f_PD = int2d._wamfit(N, np.array([pdx, pdy]).T, np.array([X,Y]).T, f(pdx,pdy).reshape(-1,1))\n",
    "    err_PD = np.linalg.norm(f_PD.reshape(n_eval,-1) - f_true.reshape(n_eval,-1))**2/n_eval\n",
    "    #err_PD = np.max(np.abs(f_PD - f_true))\n",
    "    \n",
    "    return err_eq, err_PD, err_fake"
   ]
  },
  {
   "cell_type": "code",
   "execution_count": 8,
   "metadata": {
    "collapsed": false
   },
   "outputs": [
    {
     "name": "stdout",
     "output_type": "stream",
     "text": [
      "5\n"
     ]
    },
    {
     "name": "stdout",
     "output_type": "stream",
     "text": [
      "10\n"
     ]
    },
    {
     "name": "stdout",
     "output_type": "stream",
     "text": [
      "15\n"
     ]
    },
    {
     "name": "stdout",
     "output_type": "stream",
     "text": [
      "20\n"
     ]
    },
    {
     "name": "stdout",
     "output_type": "stream",
     "text": [
      "25\n"
     ]
    },
    {
     "name": "stdout",
     "output_type": "stream",
     "text": [
      "30\n"
     ]
    }
   ],
   "source": [
    "Nrange = list(range(5,31))\n",
    "Eq, PD, Fake = [], [], []\n",
    "\n",
    "for n in Nrange:\n",
    "    if n%5==0: print(n)\n",
    "    eq, pd, fake = run_all(n)\n",
    "    Eq.append(eq)\n",
    "    PD.append(pd)\n",
    "    Fake.append(fake)"
   ]
  },
  {
   "cell_type": "code",
   "execution_count": 9,
   "metadata": {
    "collapsed": false
   },
   "outputs": [
    {
     "data": {
      "image/png": "[encoded data removed]",
      "text/plain": [
       "<Figure size 432x288 with 1 Axes>"
      ]
     },
     "execution_count": 9,
     "metadata": {
      "image/png": {
       "height": 248,
       "width": 379
      },
      "needs_background": "light"
     },
     "output_type": "execute_result"
    }
   ],
   "source": [
    "plt.semilogy(Nrange, Eq, '-og')\n",
    "plt.semilogy(Nrange, PD, '-*b')\n",
    "plt.semilogy(Nrange, Fake, '-or')\n",
    "plt.legend(['Equispaced','Padova','Fake Padova'])\n",
    "plt.grid()"
   ]
  },
  {
   "cell_type": "code",
   "execution_count": 0,
   "metadata": {
    "collapsed": false
   },
   "outputs": [
   ],
   "source": [
   ]
  },
  {
   "cell_type": "code",
   "execution_count": 0,
   "metadata": {
    "collapsed": false
   },
   "outputs": [
   ],
   "source": [
   ]
  },
  {
   "cell_type": "code",
   "execution_count": 0,
   "metadata": {
    "collapsed": false
   },
   "outputs": [
   ],
   "source": [
   ]
  },
  {
   "cell_type": "code",
   "execution_count": 0,
   "metadata": {
    "collapsed": false
   },
   "outputs": [
   ],
   "source": [
   ]
  },
  {
   "cell_type": "code",
   "execution_count": 0,
   "metadata": {
    "collapsed": false
   },
   "outputs": [
   ],
   "source": [
   ]
  }
 ],
 "metadata": {
  "kernelspec": {
   "display_name": "Python 3 (Anaconda 2019)",
   "env": {
    "LD_LIBRARY_PATH": "/ext/anaconda-2019.03/lib",
    "PROJ_LIB": "/ext/anaconda-2019.03/share/proj",
    "PYTHONHOME": "/ext/anaconda-2019.03/lib/python3.7",
    "PYTHONPATH": "/ext/anaconda-2019.03/lib/python3.7:/ext/anaconda-2019.03/lib/python3.7/site-packages"
   },
   "language": "python",
   "metadata": {
    "cocalc": {
     "description": "Python/R distribution for data science",
     "priority": 5,
     "url": "https://www.anaconda.com/distribution/"
    }
   },
   "name": "anaconda2019"
  },
  "language_info": {
   "codemirror_mode": {
    "name": "ipython",
    "version": 3
   },
   "file_extension": ".py",
   "mimetype": "text/x-python",
   "name": "python",
   "nbconvert_exporter": "python",
   "pygments_lexer": "ipython3",
   "version": "3.7.3"
  }
 },
 "nbformat": 4,
 "nbformat_minor": 0
}